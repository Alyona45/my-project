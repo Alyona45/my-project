{
 "cells": [
  {
   "cell_type": "code",
   "execution_count": 2,
   "id": "89f8d6a8",
   "metadata": {},
   "outputs": [
    {
     "name": "stdout",
     "output_type": "stream",
     "text": [
      "    1     \n",
      "   1 1    \n",
      "  1 2 1   \n",
      " 1 3 3 1  \n",
      "1 4 6 4 1 \n"
     ]
    }
   ],
   "source": [
    "n = int(input())\n",
    "\n",
    "triangle = []\n",
    "triangle.append([1])\n",
    "\n",
    "for i in range(2, n + 1):\n",
    "    old_line = triangle[-1]\n",
    "    new_line = [1]\n",
    "    for index in range(len(old_line) - 1):\n",
    "        sum_elements = old_line[index] + old_line[index + 1]\n",
    "        new_line.append(sum_elements)\n",
    "    new_line.append(1)\n",
    "    triangle.append(new_line)\n",
    "    \n",
    "if n > 5:\n",
    "    print('Сори, пока не умею работать с цифрами больше 5 :(')\n",
    "else: \n",
    "    width = n * 2  \n",
    "    for line in triangle:\n",
    "        row = \" \".join(map(str, line))\n",
    "        print(row.center(width))"
   ]
  }
 ],
 "metadata": {
  "kernelspec": {
   "display_name": "Python 3",
   "language": "python",
   "name": "python3"
  },
  "language_info": {
   "codemirror_mode": {
    "name": "ipython",
    "version": 3
   },
   "file_extension": ".py",
   "mimetype": "text/x-python",
   "name": "python",
   "nbconvert_exporter": "python",
   "pygments_lexer": "ipython3",
   "version": "3.12.3"
  }
 },
 "nbformat": 4,
 "nbformat_minor": 5
}
