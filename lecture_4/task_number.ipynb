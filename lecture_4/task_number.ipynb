{
 "cells": [
  {
   "cell_type": "code",
   "execution_count": 1,
   "id": "6fec86bb",
   "metadata": {},
   "outputs": [
    {
     "name": "stdout",
     "output_type": "stream",
     "text": [
      "Диапазон (-1000,1000)\n",
      "Было загадано число 57!\n"
     ]
    }
   ],
   "source": [
    "lower_border = int(input('Введи нижнюю границу:'))\n",
    "higher_border = int(input('Введи верхнюю границу:'))\n",
    "\n",
    "print(f\"Диапазон ({lower_border},{higher_border})\")\n",
    "\n",
    "area = list(range(lower_border, higher_border))\n",
    "\n",
    "start = 0\n",
    "end = len(area) - 1\n",
    "mid = (start+end)//2\n",
    "\n",
    "while start <= end:\n",
    "    check = input(f'Твое число больше, меньше или равно {area[mid]}? [>,<,=]')\n",
    "    if check == '>':\n",
    "        start = mid + 1\n",
    "    elif check == '<':\n",
    "        end = mid - 1\n",
    "    elif check == '=':\n",
    "        print(f'Было загадано число {area[mid]}!')\n",
    "        break\n",
    "    elif check == 'exit':\n",
    "        print('Главное не сдаваться!')\n",
    "        break\n",
    "    mid = (start+end)//2\n",
    "    \n",
    "if start > end:\n",
    "    print('Подозреваю, что твоего числа нет в диапазоне')"
   ]
  }
 ],
 "metadata": {
  "kernelspec": {
   "display_name": "Python 3",
   "language": "python",
   "name": "python3"
  },
  "language_info": {
   "codemirror_mode": {
    "name": "ipython",
    "version": 3
   },
   "file_extension": ".py",
   "mimetype": "text/x-python",
   "name": "python",
   "nbconvert_exporter": "python",
   "pygments_lexer": "ipython3",
   "version": "3.12.3"
  }
 },
 "nbformat": 4,
 "nbformat_minor": 5
}
