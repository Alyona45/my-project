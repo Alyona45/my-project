{
 "cells": [
  {
   "cell_type": "code",
   "execution_count": 2,
   "id": "5dc0bd95",
   "metadata": {},
   "outputs": [
    {
     "name": "stdout",
     "output_type": "stream",
     "text": [
      "Вы ввели 105\n",
      "На позиции 105 в последовательности Фибоначчи стоит 3928413764606871165730\n"
     ]
    }
   ],
   "source": [
    "n = int(input())\n",
    "print(f\"Вы ввели {n}\")\n",
    "\n",
    "MY_CACHE = {}\n",
    "\n",
    "def fibonacci(n):\n",
    "    if n == 0:\n",
    "        return 0\n",
    "    elif n == 1:\n",
    "        return 1\n",
    "    elif n in MY_CACHE.keys():\n",
    "        return MY_CACHE[n]\n",
    "    else:\n",
    "        fib_number = fibonacci(n-1) + fibonacci(n-2)\n",
    "        MY_CACHE[n] = fib_number\n",
    "        return fib_number\n",
    "\n",
    "print(f\"На позиции {n} в последовательности Фибоначчи стоит {fibonacci(n)}\")"
   ]
  }
 ],
 "metadata": {
  "kernelspec": {
   "display_name": "Python 3",
   "language": "python",
   "name": "python3"
  },
  "language_info": {
   "codemirror_mode": {
    "name": "ipython",
    "version": 3
   },
   "file_extension": ".py",
   "mimetype": "text/x-python",
   "name": "python",
   "nbconvert_exporter": "python",
   "pygments_lexer": "ipython3",
   "version": "3.12.3"
  }
 },
 "nbformat": 4,
 "nbformat_minor": 5
}
