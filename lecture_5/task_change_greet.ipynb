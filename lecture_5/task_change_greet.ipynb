{
 "cells": [
  {
   "cell_type": "code",
   "execution_count": 6,
   "id": "bb814b9d",
   "metadata": {},
   "outputs": [
    {
     "name": "stdout",
     "output_type": "stream",
     "text": [
      "АлЕкСаНдР\n"
     ]
    },
    {
     "data": {
      "text/html": [
       "<pre style=\"white-space:pre;overflow-x:auto;line-height:normal;font-family:Menlo,'DejaVu Sans Mono',consolas,'Courier New',monospace\">Hello, <span style=\"color: #000080; text-decoration-color: #000080; font-weight: bold\">АлЕкСаНдР</span>!\n",
       "</pre>\n"
      ],
      "text/plain": [
       "Hello, \u001b[1;34mАлЕкСаНдР\u001b[0m!\n"
      ]
     },
     "metadata": {},
     "output_type": "display_data"
    }
   ],
   "source": [
    "from rich import print as rich_print \n",
    "\n",
    "name = input()\n",
    "\n",
    "def change_name(name):\n",
    "    new = []\n",
    "    for index, letter in enumerate(name):\n",
    "        if index % 2 == 0:\n",
    "            new.append(letter.upper())\n",
    "        else:\n",
    "            new.append(letter.lower())\n",
    "    return ''.join(new)\n",
    "\n",
    "print(change_name(name))\n",
    "\n",
    "def greet(name):\n",
    "    rich_print(f'Hello, [bold blue]{change_name(name)}[/bold blue]!')\n",
    "\n",
    "greet(name)"
   ]
  }
 ],
 "metadata": {
  "kernelspec": {
   "display_name": "Python 3",
   "language": "python",
   "name": "python3"
  },
  "language_info": {
   "codemirror_mode": {
    "name": "ipython",
    "version": 3
   },
   "file_extension": ".py",
   "mimetype": "text/x-python",
   "name": "python",
   "nbconvert_exporter": "python",
   "pygments_lexer": "ipython3",
   "version": "3.12.3"
  }
 },
 "nbformat": 4,
 "nbformat_minor": 5
}
