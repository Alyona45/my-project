{
 "cells": [
  {
   "cell_type": "code",
   "execution_count": 3,
   "id": "84f5a4b4",
   "metadata": {},
   "outputs": [
    {
     "name": "stdout",
     "output_type": "stream",
     "text": [
      "Иди домой, найди папу и пусть тот спросит, кого ты больше любишь\n"
     ]
    }
   ],
   "source": [
    "desire = input('Ты хочешь сняться в кино?: [Да\\Нет]')\n",
    "\n",
    "if desire.lower() ==  'да':\n",
    "    character = input('Выбирай Локи или Халк?')\n",
    "    if character.capitalize() == 'Халк':\n",
    "        volume = input('Сколько у тебя бицепс?')\n",
    "        if int(volume) >= 60:\n",
    "                print('Ты принят!')\n",
    "        else:\n",
    "            print('Иди домой тогда.')\n",
    "            \n",
    "    elif character.capitalize() == 'Локи':\n",
    "        love = input('Кого ты больше любишь папу или маму?')\n",
    "        if love.lower() == 'маму':\n",
    "            print('Иди домой, найди папу и пусть тот спросит, кого ты больше любишь')\n",
    "        elif love.lower() == 'папу':\n",
    "            print('Иди домой тогда')\n",
    "        else:\n",
    "            print('Я не это спросил')\n",
    "        \n",
    "elif desire.lower() == 'нет':\n",
    "    print('Ну пока тогда.')\n",
    "else:\n",
    "    print('Не трать мое время')"
   ]
  }
 ],
 "metadata": {
  "kernelspec": {
   "display_name": "Python 3",
   "language": "python",
   "name": "python3"
  },
  "language_info": {
   "codemirror_mode": {
    "name": "ipython",
    "version": 3
   },
   "file_extension": ".py",
   "mimetype": "text/x-python",
   "name": "python",
   "nbconvert_exporter": "python",
   "pygments_lexer": "ipython3",
   "version": "3.12.3"
  }
 },
 "nbformat": 4,
 "nbformat_minor": 5
}
